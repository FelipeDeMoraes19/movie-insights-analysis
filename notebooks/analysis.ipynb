{
 "cells": [
  {
   "cell_type": "code",
   "execution_count": null,
   "metadata": {},
   "outputs": [],
   "source": [
    "import pandas as pd\n",
    "from src.data_loading import load_data, load_metadata\n",
    "from src.data_cleaning import clean_data\n",
    "from src.data_analysis import analyze_genres, analyze_ratings_over_time, analyze_budget_revenue_correlation\n",
    "from src.visualization import plot_genres, plot_ratings_over_time, plot_budget_revenue\n",
    "\n",
    "df = load_data('data/movies.json')\n",
    "metadata = load_metadata('data/the-movies-dataset-metadata.json')\n",
    "df = clean_data(df)\n",
    "\n",
    "genres = analyze_genres(df)\n",
    "plot_genres(genres)\n",
    "\n",
    "ratings_over_time = analyze_ratings_over_time(df)\n",
    "plot_ratings_over_time(ratings_over_time)\n",
    "\n",
    "correlation = analyze_budget_revenue_correlation(df)\n",
    "plot_budget_revenue(df)\n",
    "print(correlation)\n",
    "\n",
    "print(metadata)\n"
   ]
  }
 ],
 "metadata": {
  "language_info": {
   "name": "python"
  }
 },
 "nbformat": 4,
 "nbformat_minor": 2
}
